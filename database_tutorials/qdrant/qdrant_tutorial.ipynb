{
 "cells": [
  {
   "cell_type": "markdown",
   "metadata": {},
   "source": [
    "# Qdrant Tutorial"
   ]
  },
  {
   "cell_type": "markdown",
   "metadata": {},
   "source": [
    "### Imports"
   ]
  },
  {
   "cell_type": "code",
   "execution_count": 1,
   "metadata": {},
   "outputs": [],
   "source": [
    "from qdrant_client import QdrantClient"
   ]
  },
  {
   "cell_type": "markdown",
   "metadata": {},
   "source": [
    "### Connect to database"
   ]
  },
  {
   "cell_type": "code",
   "execution_count": 2,
   "metadata": {},
   "outputs": [],
   "source": [
    "client = QdrantClient(host=\"localhost\", port=6333) # Instantiate client"
   ]
  },
  {
   "cell_type": "markdown",
   "metadata": {},
   "source": [
    "### Create collection"
   ]
  },
  {
   "cell_type": "code",
   "execution_count": 3,
   "metadata": {},
   "outputs": [
    {
     "name": "stdout",
     "output_type": "stream",
     "text": [
      "Collection already exists!\n"
     ]
    },
    {
     "data": {
      "text/plain": [
       "True"
      ]
     },
     "execution_count": 3,
     "metadata": {},
     "output_type": "execute_result"
    }
   ],
   "source": [
    "from qdrant_client.models import Distance, VectorParams\n",
    "\n",
    "if client.collection_exists(collection_name='my_collection'):\n",
    "    print(\"Collection already exists!\")\n",
    "    client.delete_collection(collection_name='my_collection')\n",
    "client.create_collection(\n",
    "    collection_name=\"my_collection\",\n",
    "    vectors_config=VectorParams(size=768, distance=Distance.COSINE),\n",
    ") # Configure params"
   ]
  },
  {
   "cell_type": "markdown",
   "metadata": {},
   "source": [
    "### Generate embeddings"
   ]
  },
  {
   "cell_type": "code",
   "execution_count": 4,
   "metadata": {},
   "outputs": [
    {
     "name": "stderr",
     "output_type": "stream",
     "text": [
      "/home/pablo/.local/lib/python3.10/site-packages/sentence_transformers/cross_encoder/CrossEncoder.py:11: TqdmExperimentalWarning: Using `tqdm.autonotebook.tqdm` in notebook mode. Use `tqdm.tqdm` instead to force console mode (e.g. in jupyter console)\n",
      "  from tqdm.autonotebook import tqdm, trange\n",
      "2024-06-26 11:55:33.302216: E external/local_xla/xla/stream_executor/cuda/cuda_dnn.cc:9261] Unable to register cuDNN factory: Attempting to register factory for plugin cuDNN when one has already been registered\n",
      "2024-06-26 11:55:33.302244: E external/local_xla/xla/stream_executor/cuda/cuda_fft.cc:607] Unable to register cuFFT factory: Attempting to register factory for plugin cuFFT when one has already been registered\n",
      "2024-06-26 11:55:33.303352: E external/local_xla/xla/stream_executor/cuda/cuda_blas.cc:1515] Unable to register cuBLAS factory: Attempting to register factory for plugin cuBLAS when one has already been registered\n",
      "2024-06-26 11:55:33.310257: I tensorflow/core/platform/cpu_feature_guard.cc:182] This TensorFlow binary is optimized to use available CPU instructions in performance-critical operations.\n",
      "To enable the following instructions: AVX2 FMA, in other operations, rebuild TensorFlow with the appropriate compiler flags.\n",
      "2024-06-26 11:55:34.549799: W tensorflow/compiler/tf2tensorrt/utils/py_utils.cc:38] TF-TRT Warning: Could not find TensorRT\n",
      "/home/pablo/.local/lib/python3.10/site-packages/huggingface_hub/file_download.py:1132: FutureWarning: `resume_download` is deprecated and will be removed in version 1.0.0. Downloads always resume when possible. If you want to force a new download, use `force_download=True`.\n",
      "  warnings.warn(\n"
     ]
    },
    {
     "name": "stdout",
     "output_type": "stream",
     "text": [
      "Dim: (768,)\n"
     ]
    }
   ],
   "source": [
    "from sentence_transformers import SentenceTransformer\n",
    "\n",
    "embedding_fn = SentenceTransformer('sentence-transformers/paraphrase-albert-small-v2')\n",
    "\n",
    "# Text strings to search from\n",
    "docs = [\n",
    "    \"Artificial intelligence was founded as an academic discipline in 1956.\",\n",
    "    \"Alan Turing was the first person to conduct substantial research in AI.\",\n",
    "    \"Born in Maida Vale, London, Turing was raised in southern England.\",\n",
    "]\n",
    "\n",
    "vectors = embedding_fn.encode(docs) # We vectorize each of the sentences\n",
    "\n",
    "# The output vector has 768 dimensions, matching the collection that we just created\n",
    "print(\"Dim:\", vectors[0].shape)"
   ]
  },
  {
   "cell_type": "markdown",
   "metadata": {},
   "source": [
    "### Insert embeddings"
   ]
  },
  {
   "cell_type": "code",
   "execution_count": 5,
   "metadata": {},
   "outputs": [],
   "source": [
    "from qdrant_client.models import PointStruct\n",
    "\n",
    "res = client.upsert(\n",
    "    collection_name=\"my_collection\",\n",
    "    points=[\n",
    "        PointStruct(\n",
    "            id=idx, # Id is an integer\n",
    "            vector=vector.tolist(), # Vector is a strict Python list\n",
    "            payload={\"subject\": \"history\",\n",
    "                     \"text\": docs[idx]} # Attributes are prompted inside a dictionary\n",
    "        )\n",
    "        for idx, vector in enumerate(vectors)\n",
    "    ]\n",
    ")"
   ]
  },
  {
   "cell_type": "code",
   "execution_count": 6,
   "metadata": {},
   "outputs": [
    {
     "name": "stdout",
     "output_type": "stream",
     "text": [
      "operation_id=0 status=<UpdateStatus.COMPLETED: 'completed'>\n"
     ]
    }
   ],
   "source": [
    "print(res)"
   ]
  },
  {
   "cell_type": "markdown",
   "metadata": {},
   "source": [
    "Returns an UpdateResult object"
   ]
  },
  {
   "cell_type": "markdown",
   "metadata": {},
   "source": [
    "### Perform search"
   ]
  },
  {
   "cell_type": "code",
   "execution_count": 7,
   "metadata": {},
   "outputs": [],
   "source": [
    "query_vectors = embedding_fn.encode([\"Who is Alan Turing?\"]) # Query text to embedding"
   ]
  },
  {
   "cell_type": "code",
   "execution_count": 8,
   "metadata": {},
   "outputs": [],
   "source": [
    "hits = client.search(\n",
    "    collection_name=\"my_collection\",\n",
    "    query_vector=query_vectors[0],\n",
    "    limit=5  # Return 5 closest points\n",
    ")"
   ]
  },
  {
   "cell_type": "code",
   "execution_count": 9,
   "metadata": {},
   "outputs": [
    {
     "data": {
      "text/plain": [
       "[ScoredPoint(id=2, version=0, score=0.5859946, payload={'subject': 'history', 'text': 'Born in Maida Vale, London, Turing was raised in southern England.'}, vector=None, shard_key=None),\n",
       " ScoredPoint(id=1, version=0, score=0.5118257, payload={'subject': 'history', 'text': 'Alan Turing was the first person to conduct substantial research in AI.'}, vector=None, shard_key=None),\n",
       " ScoredPoint(id=0, version=0, score=0.12895359, payload={'subject': 'history', 'text': 'Artificial intelligence was founded as an academic discipline in 1956.'}, vector=None, shard_key=None)]"
      ]
     },
     "execution_count": 9,
     "metadata": {},
     "output_type": "execute_result"
    }
   ],
   "source": [
    "hits"
   ]
  },
  {
   "cell_type": "markdown",
   "metadata": {},
   "source": [
    "### Perform filtering"
   ]
  },
  {
   "cell_type": "code",
   "execution_count": 10,
   "metadata": {},
   "outputs": [],
   "source": [
    "# Insert more docs in another subject.\n",
    "docs = [\n",
    "    \"Machine learning has been used for drug design.\",\n",
    "    \"Computational synthesis with AI algorithms predicts molecular properties.\",\n",
    "    \"DDR1 is involved in cancers and fibrosis.\",\n",
    "]\n",
    "vectors = embedding_fn.encode(docs)\n",
    "\n",
    "res = client.upsert(\n",
    "    collection_name=\"my_collection\",\n",
    "    points=[\n",
    "        PointStruct(\n",
    "            id=idx+3, # Id is an integer\n",
    "            vector=vector.tolist(), # Vector is a strict Python list\n",
    "            payload={\"subject\": \"biology\",\n",
    "                     \"text\": docs[idx]} # Attributes are prompted inside a dictionary\n",
    "        )\n",
    "        for idx, vector in enumerate(vectors)\n",
    "    ]\n",
    ")"
   ]
  },
  {
   "cell_type": "code",
   "execution_count": 11,
   "metadata": {},
   "outputs": [],
   "source": [
    "query_for_filtering = embedding_fn.encode(['tell me AI realted information'])"
   ]
  },
  {
   "cell_type": "markdown",
   "metadata": {},
   "source": [
    "Perform filtering inside a vector search"
   ]
  },
  {
   "cell_type": "code",
   "execution_count": 12,
   "metadata": {},
   "outputs": [],
   "source": [
    "from qdrant_client.models import Filter, FieldCondition, MatchValue\n",
    "\n",
    "hits = client.search(\n",
    "    collection_name=\"my_collection\",\n",
    "    query_vector=query_for_filtering[0],\n",
    "    query_filter=Filter(\n",
    "        must=[  # These conditions are required for search results\n",
    "            FieldCondition(\n",
    "                key=\"subject\",\n",
    "                match=MatchValue(\n",
    "                    value=\"biology\",\n",
    "                ),\n",
    "            )\n",
    "\n",
    "        ]\n",
    "    ),\n",
    "    limit=2  # Return 5 closest points\n",
    ")"
   ]
  },
  {
   "cell_type": "code",
   "execution_count": 59,
   "metadata": {},
   "outputs": [
    {
     "data": {
      "text/plain": [
       "[ScoredPoint(id=4, version=3, score=0.20548509, payload={'subject': 'biology', 'text': 'Computational synthesis with AI algorithms predicts molecular properties.'}, vector=None, shard_key=None),\n",
       " ScoredPoint(id=3, version=3, score=0.16327181, payload={'subject': 'biology', 'text': 'Machine learning has been used for drug design.'}, vector=None, shard_key=None)]"
      ]
     },
     "execution_count": 59,
     "metadata": {},
     "output_type": "execute_result"
    }
   ],
   "source": [
    "hits"
   ]
  },
  {
   "cell_type": "markdown",
   "metadata": {},
   "source": [
    "Perform filtering alone"
   ]
  },
  {
   "cell_type": "code",
   "execution_count": 60,
   "metadata": {},
   "outputs": [],
   "source": [
    "hits = client.scroll(\n",
    "    collection_name='my_collection',\n",
    "    scroll_filter=Filter(\n",
    "        must=[\n",
    "            FieldCondition(\n",
    "                key='subject',\n",
    "                match=MatchValue(\n",
    "                    value='history'\n",
    "                )\n",
    "            )\n",
    "        ]\n",
    "    ),\n",
    "    limit=3\n",
    ")"
   ]
  },
  {
   "cell_type": "code",
   "execution_count": 61,
   "metadata": {},
   "outputs": [
    {
     "data": {
      "text/plain": [
       "([Record(id=0, payload={'subject': 'history', 'text': 'Artificial intelligence was founded as an academic discipline in 1956.'}, vector=None, shard_key=None),\n",
       "  Record(id=1, payload={'subject': 'history', 'text': 'Alan Turing was the first person to conduct substantial research in AI.'}, vector=None, shard_key=None),\n",
       "  Record(id=2, payload={'subject': 'history', 'text': 'Born in Maida Vale, London, Turing was raised in southern England.'}, vector=None, shard_key=None)],\n",
       " None)"
      ]
     },
     "execution_count": 61,
     "metadata": {},
     "output_type": "execute_result"
    }
   ],
   "source": [
    "hits"
   ]
  },
  {
   "cell_type": "markdown",
   "metadata": {},
   "source": [
    "### Delete data"
   ]
  },
  {
   "cell_type": "code",
   "execution_count": 62,
   "metadata": {},
   "outputs": [],
   "source": [
    "from qdrant_client.models import PointIdsList\n",
    "\n",
    "res = client.delete(\n",
    "    collection_name=\"my_collection\",\n",
    "    points_selector=PointIdsList(\n",
    "        points=[0, 2],\n",
    "    ),\n",
    ")"
   ]
  },
  {
   "cell_type": "code",
   "execution_count": 63,
   "metadata": {},
   "outputs": [
    {
     "data": {
      "text/plain": [
       "UpdateResult(operation_id=4, status=<UpdateStatus.COMPLETED: 'completed'>)"
      ]
     },
     "execution_count": 63,
     "metadata": {},
     "output_type": "execute_result"
    }
   ],
   "source": [
    "res"
   ]
  },
  {
   "cell_type": "code",
   "execution_count": 67,
   "metadata": {},
   "outputs": [
    {
     "data": {
      "text/plain": [
       "([Record(id=1, payload={'subject': 'history', 'text': 'Alan Turing was the first person to conduct substantial research in AI.'}, vector=None, shard_key=None),\n",
       "  Record(id=3, payload={'subject': 'biology', 'text': 'Machine learning has been used for drug design.'}, vector=None, shard_key=None),\n",
       "  Record(id=4, payload={'subject': 'biology', 'text': 'Computational synthesis with AI algorithms predicts molecular properties.'}, vector=None, shard_key=None),\n",
       "  Record(id=5, payload={'subject': 'biology', 'text': 'DDR1 is involved in cancers and fibrosis.'}, vector=None, shard_key=None)],\n",
       " None)"
      ]
     },
     "execution_count": 67,
     "metadata": {},
     "output_type": "execute_result"
    }
   ],
   "source": [
    "client.scroll(\n",
    "    collection_name='my_collection',\n",
    "    scroll_filter=Filter(\n",
    "        should=[\n",
    "            FieldCondition(\n",
    "                key='subject',\n",
    "                match=MatchValue(\n",
    "                    value='history'\n",
    "                )\n",
    "            ),\n",
    "            FieldCondition(\n",
    "                key='subject',\n",
    "                match=MatchValue(\n",
    "                    value='biology'\n",
    "                )\n",
    "            )\n",
    "        ]\n",
    "    ),\n",
    "    limit=10\n",
    ")"
   ]
  },
  {
   "cell_type": "markdown",
   "metadata": {},
   "source": [
    "### Reconnect"
   ]
  },
  {
   "cell_type": "code",
   "execution_count": 68,
   "metadata": {},
   "outputs": [],
   "source": [
    "client.close()\n",
    "del client"
   ]
  },
  {
   "cell_type": "code",
   "execution_count": 69,
   "metadata": {},
   "outputs": [],
   "source": [
    "client = QdrantClient(host=\"localhost\", port=6333) # Instantiate client"
   ]
  },
  {
   "cell_type": "code",
   "execution_count": 70,
   "metadata": {},
   "outputs": [
    {
     "data": {
      "text/plain": [
       "([Record(id=1, payload={'subject': 'history', 'text': 'Alan Turing was the first person to conduct substantial research in AI.'}, vector=None, shard_key=None),\n",
       "  Record(id=3, payload={'subject': 'biology', 'text': 'Machine learning has been used for drug design.'}, vector=None, shard_key=None),\n",
       "  Record(id=4, payload={'subject': 'biology', 'text': 'Computational synthesis with AI algorithms predicts molecular properties.'}, vector=None, shard_key=None),\n",
       "  Record(id=5, payload={'subject': 'biology', 'text': 'DDR1 is involved in cancers and fibrosis.'}, vector=None, shard_key=None)],\n",
       " None)"
      ]
     },
     "execution_count": 70,
     "metadata": {},
     "output_type": "execute_result"
    }
   ],
   "source": [
    "client.scroll(\n",
    "    collection_name='my_collection',\n",
    "    scroll_filter=Filter(\n",
    "        should=[\n",
    "            FieldCondition(\n",
    "                key='subject',\n",
    "                match=MatchValue(\n",
    "                    value='history'\n",
    "                )\n",
    "            ),\n",
    "            FieldCondition(\n",
    "                key='subject',\n",
    "                match=MatchValue(\n",
    "                    value='biology'\n",
    "                )\n",
    "            )\n",
    "        ]\n",
    "    ),\n",
    "    limit=10\n",
    ")"
   ]
  },
  {
   "cell_type": "markdown",
   "metadata": {},
   "source": [
    "### Drop collection"
   ]
  },
  {
   "cell_type": "code",
   "execution_count": 13,
   "metadata": {},
   "outputs": [
    {
     "data": {
      "text/plain": [
       "True"
      ]
     },
     "execution_count": 13,
     "metadata": {},
     "output_type": "execute_result"
    }
   ],
   "source": [
    "client.delete_collection(collection_name='my_collection')"
   ]
  },
  {
   "cell_type": "code",
   "execution_count": 17,
   "metadata": {},
   "outputs": [
    {
     "name": "stdout",
     "output_type": "stream",
     "text": [
      "Collection not found\n"
     ]
    }
   ],
   "source": [
    "from qdrant_client.http.exceptions import UnexpectedResponse\n",
    "\n",
    "try:\n",
    "    client.scroll(\n",
    "        collection_name='my_collection',\n",
    "        scroll_filter=Filter(\n",
    "            should=[\n",
    "                FieldCondition(\n",
    "                    key='subject',\n",
    "                    match=MatchValue(\n",
    "                        value='history'\n",
    "                    )\n",
    "                ),\n",
    "                FieldCondition(\n",
    "                    key='subject',\n",
    "                    match=MatchValue(\n",
    "                        value='biology'\n",
    "                    )\n",
    "                )\n",
    "            ]\n",
    "        ),\n",
    "        limit=10\n",
    "    )\n",
    "except UnexpectedResponse as e:\n",
    "    if e.status_code == 404:\n",
    "        print(\"Collection not found\")"
   ]
  }
 ],
 "metadata": {
  "kernelspec": {
   "display_name": "Python 3",
   "language": "python",
   "name": "python3"
  },
  "language_info": {
   "codemirror_mode": {
    "name": "ipython",
    "version": 3
   },
   "file_extension": ".py",
   "mimetype": "text/x-python",
   "name": "python",
   "nbconvert_exporter": "python",
   "pygments_lexer": "ipython3",
   "version": "3.10.12"
  }
 },
 "nbformat": 4,
 "nbformat_minor": 2
}
