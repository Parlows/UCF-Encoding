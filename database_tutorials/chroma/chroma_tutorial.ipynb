{
 "cells": [
  {
   "cell_type": "markdown",
   "metadata": {},
   "source": [
    "# Chroma database"
   ]
  },
  {
   "cell_type": "markdown",
   "metadata": {},
   "source": [
    "### Imports"
   ]
  },
  {
   "cell_type": "code",
   "execution_count": 34,
   "metadata": {},
   "outputs": [],
   "source": [
    "import chromadb"
   ]
  },
  {
   "cell_type": "markdown",
   "metadata": {},
   "source": [
    "### Connect to database"
   ]
  },
  {
   "cell_type": "code",
   "execution_count": 40,
   "metadata": {},
   "outputs": [],
   "source": [
    "client = chromadb.HttpClient(host='localhost', port=8000)"
   ]
  },
  {
   "cell_type": "markdown",
   "metadata": {},
   "source": [
    "### Create collection"
   ]
  },
  {
   "cell_type": "code",
   "execution_count": 41,
   "metadata": {},
   "outputs": [],
   "source": [
    "from chromadb.utils import embedding_functions\n",
    "\n",
    "collection = client.create_collection(name='my_collection',\n",
    "                                      embedding_function=embedding_functions.SentenceTransformerEmbeddingFunction(model_name=\"sentence-transformers/paraphrase-albert-small-v2\"),\n",
    "                                      metadata={'hnsw:space': 'cosine'})"
   ]
  },
  {
   "cell_type": "markdown",
   "metadata": {},
   "source": [
    "### Generate embeddings"
   ]
  },
  {
   "cell_type": "markdown",
   "metadata": {},
   "source": [
    "(Already integrated in Chroma)"
   ]
  },
  {
   "cell_type": "code",
   "execution_count": 43,
   "metadata": {},
   "outputs": [],
   "source": [
    "# Text strings to search from\n",
    "docs = [\n",
    "    \"Artificial intelligence was founded as an academic discipline in 1956.\",\n",
    "    \"Alan Turing was the first person to conduct substantial research in AI.\",\n",
    "    \"Born in Maida Vale, London, Turing was raised in southern England.\",\n",
    "]"
   ]
  },
  {
   "cell_type": "markdown",
   "metadata": {},
   "source": [
    "### Insert embeddings"
   ]
  },
  {
   "cell_type": "code",
   "execution_count": 44,
   "metadata": {},
   "outputs": [],
   "source": [
    "ids = [str(i) for i in range(len(docs))]\n",
    "metadatas = [{'subject': 'history', 'text': doc} for doc in docs]"
   ]
  },
  {
   "cell_type": "code",
   "execution_count": 45,
   "metadata": {},
   "outputs": [
    {
     "data": {
      "text/plain": [
       "'\\nOne can also insert the embeddings manually, but for exploratory purposes we are\\nusing the integrated embedding procedure of Chroma.\\n'"
      ]
     },
     "execution_count": 45,
     "metadata": {},
     "output_type": "execute_result"
    }
   ],
   "source": [
    "collection.add(\n",
    "    ids=ids,\n",
    "    documents=docs, # The engine calculates the embeddings of these documents with the previously specified function\n",
    "    metadatas=metadatas\n",
    ")\n",
    "\n",
    "\"\"\"\n",
    "One can also insert the embeddings manually, but for exploratory purposes we are\n",
    "using the integrated embedding procedure of Chroma.\n",
    "\"\"\""
   ]
  },
  {
   "cell_type": "markdown",
   "metadata": {},
   "source": [
    "### Perform search"
   ]
  },
  {
   "cell_type": "code",
   "execution_count": 46,
   "metadata": {},
   "outputs": [
    {
     "data": {
      "text/plain": [
       "{'ids': [['2', '1', '0']],\n",
       " 'distances': [[0.4140054889208209, 0.48817410840373643, 0.871046350397331]],\n",
       " 'embeddings': None,\n",
       " 'metadatas': [[{'subject': 'history',\n",
       "    'text': 'Born in Maida Vale, London, Turing was raised in southern England.'},\n",
       "   {'subject': 'history',\n",
       "    'text': 'Alan Turing was the first person to conduct substantial research in AI.'},\n",
       "   {'subject': 'history',\n",
       "    'text': 'Artificial intelligence was founded as an academic discipline in 1956.'}]],\n",
       " 'documents': [['Born in Maida Vale, London, Turing was raised in southern England.',\n",
       "   'Alan Turing was the first person to conduct substantial research in AI.',\n",
       "   'Artificial intelligence was founded as an academic discipline in 1956.']],\n",
       " 'uris': None,\n",
       " 'data': None,\n",
       " 'included': ['metadatas', 'documents', 'distances']}"
      ]
     },
     "execution_count": 46,
     "metadata": {},
     "output_type": "execute_result"
    }
   ],
   "source": [
    "collection.query(\n",
    "    query_texts=[\"Who is Alan Turing?\"],\n",
    "    n_results=10,\n",
    ")"
   ]
  },
  {
   "cell_type": "markdown",
   "metadata": {},
   "source": [
    "### Perform filtering"
   ]
  },
  {
   "cell_type": "code",
   "execution_count": 47,
   "metadata": {},
   "outputs": [],
   "source": [
    "# Insert more docs in another subject.\n",
    "docs = [\n",
    "    \"Machine learning has been used for drug design.\",\n",
    "    \"Computational synthesis with AI algorithms predicts molecular properties.\",\n",
    "    \"DDR1 is involved in cancers and fibrosis.\",\n",
    "]\n",
    "\n",
    "ids = [str(i+3) for i in range(len(docs))]\n",
    "metadatas = [{'subject': 'biology', 'text': doc} for doc in docs]\n",
    "\n",
    "collection.add(\n",
    "    ids=ids,\n",
    "    documents=docs, # The engine calculates the embeddings of these documents with the previously specified function\n",
    "    metadatas=metadatas\n",
    ")"
   ]
  },
  {
   "cell_type": "markdown",
   "metadata": {},
   "source": [
    "Perform filtering inside vector search"
   ]
  },
  {
   "cell_type": "code",
   "execution_count": 48,
   "metadata": {},
   "outputs": [
    {
     "data": {
      "text/plain": [
       "{'ids': [['4', '3', '5']],\n",
       " 'distances': [[0.7945149957077619, 0.8367281867910206, 0.9274291505861108]],\n",
       " 'embeddings': None,\n",
       " 'metadatas': [[{'subject': 'biology',\n",
       "    'text': 'Computational synthesis with AI algorithms predicts molecular properties.'},\n",
       "   {'subject': 'biology',\n",
       "    'text': 'Machine learning has been used for drug design.'},\n",
       "   {'subject': 'biology',\n",
       "    'text': 'DDR1 is involved in cancers and fibrosis.'}]],\n",
       " 'documents': [['Computational synthesis with AI algorithms predicts molecular properties.',\n",
       "   'Machine learning has been used for drug design.',\n",
       "   'DDR1 is involved in cancers and fibrosis.']],\n",
       " 'uris': None,\n",
       " 'data': None,\n",
       " 'included': ['metadatas', 'documents', 'distances']}"
      ]
     },
     "execution_count": 48,
     "metadata": {},
     "output_type": "execute_result"
    }
   ],
   "source": [
    "collection.query(\n",
    "    query_texts=['tell me AI realted information'],\n",
    "    n_results=10,\n",
    "    where={'subject': 'biology'}\n",
    ")"
   ]
  },
  {
   "cell_type": "markdown",
   "metadata": {},
   "source": [
    "Perform filtering alone"
   ]
  },
  {
   "cell_type": "code",
   "execution_count": 49,
   "metadata": {},
   "outputs": [
    {
     "data": {
      "text/plain": [
       "{'ids': ['3', '4', '5'],\n",
       " 'embeddings': None,\n",
       " 'metadatas': [{'subject': 'biology',\n",
       "   'text': 'Machine learning has been used for drug design.'},\n",
       "  {'subject': 'biology',\n",
       "   'text': 'Computational synthesis with AI algorithms predicts molecular properties.'},\n",
       "  {'subject': 'biology', 'text': 'DDR1 is involved in cancers and fibrosis.'}],\n",
       " 'documents': ['Machine learning has been used for drug design.',\n",
       "  'Computational synthesis with AI algorithms predicts molecular properties.',\n",
       "  'DDR1 is involved in cancers and fibrosis.'],\n",
       " 'data': None,\n",
       " 'uris': None,\n",
       " 'included': ['metadatas', 'documents']}"
      ]
     },
     "execution_count": 49,
     "metadata": {},
     "output_type": "execute_result"
    }
   ],
   "source": [
    "collection.get(\n",
    "    where={'subject': 'biology'}\n",
    ")"
   ]
  },
  {
   "cell_type": "code",
   "execution_count": 50,
   "metadata": {},
   "outputs": [
    {
     "data": {
      "text/plain": [
       "{'ids': ['0', '1', '2', '3', '4', '5'],\n",
       " 'embeddings': None,\n",
       " 'metadatas': [{'subject': 'history',\n",
       "   'text': 'Artificial intelligence was founded as an academic discipline in 1956.'},\n",
       "  {'subject': 'history',\n",
       "   'text': 'Alan Turing was the first person to conduct substantial research in AI.'},\n",
       "  {'subject': 'history',\n",
       "   'text': 'Born in Maida Vale, London, Turing was raised in southern England.'},\n",
       "  {'subject': 'biology',\n",
       "   'text': 'Machine learning has been used for drug design.'},\n",
       "  {'subject': 'biology',\n",
       "   'text': 'Computational synthesis with AI algorithms predicts molecular properties.'},\n",
       "  {'subject': 'biology', 'text': 'DDR1 is involved in cancers and fibrosis.'}],\n",
       " 'documents': ['Artificial intelligence was founded as an academic discipline in 1956.',\n",
       "  'Alan Turing was the first person to conduct substantial research in AI.',\n",
       "  'Born in Maida Vale, London, Turing was raised in southern England.',\n",
       "  'Machine learning has been used for drug design.',\n",
       "  'Computational synthesis with AI algorithms predicts molecular properties.',\n",
       "  'DDR1 is involved in cancers and fibrosis.'],\n",
       " 'data': None,\n",
       " 'uris': None,\n",
       " 'included': ['metadatas', 'documents']}"
      ]
     },
     "execution_count": 50,
     "metadata": {},
     "output_type": "execute_result"
    }
   ],
   "source": [
    "collection.get()"
   ]
  },
  {
   "cell_type": "markdown",
   "metadata": {},
   "source": [
    "### Delete data"
   ]
  },
  {
   "cell_type": "code",
   "execution_count": 51,
   "metadata": {},
   "outputs": [],
   "source": [
    "collection.delete(ids=['0', '2'])"
   ]
  },
  {
   "cell_type": "code",
   "execution_count": 52,
   "metadata": {},
   "outputs": [
    {
     "data": {
      "text/plain": [
       "{'ids': ['1', '3', '4', '5'],\n",
       " 'embeddings': None,\n",
       " 'metadatas': [{'subject': 'history',\n",
       "   'text': 'Alan Turing was the first person to conduct substantial research in AI.'},\n",
       "  {'subject': 'biology',\n",
       "   'text': 'Machine learning has been used for drug design.'},\n",
       "  {'subject': 'biology',\n",
       "   'text': 'Computational synthesis with AI algorithms predicts molecular properties.'},\n",
       "  {'subject': 'biology', 'text': 'DDR1 is involved in cancers and fibrosis.'}],\n",
       " 'documents': ['Alan Turing was the first person to conduct substantial research in AI.',\n",
       "  'Machine learning has been used for drug design.',\n",
       "  'Computational synthesis with AI algorithms predicts molecular properties.',\n",
       "  'DDR1 is involved in cancers and fibrosis.'],\n",
       " 'data': None,\n",
       " 'uris': None,\n",
       " 'included': ['metadatas', 'documents']}"
      ]
     },
     "execution_count": 52,
     "metadata": {},
     "output_type": "execute_result"
    }
   ],
   "source": [
    "collection.get()"
   ]
  },
  {
   "cell_type": "markdown",
   "metadata": {},
   "source": [
    "### Reconnect"
   ]
  },
  {
   "cell_type": "code",
   "execution_count": 53,
   "metadata": {},
   "outputs": [],
   "source": [
    "del client"
   ]
  },
  {
   "cell_type": "code",
   "execution_count": 54,
   "metadata": {},
   "outputs": [],
   "source": [
    "client = chromadb.HttpClient(host='localhost', port=8000)"
   ]
  },
  {
   "cell_type": "code",
   "execution_count": 55,
   "metadata": {},
   "outputs": [],
   "source": [
    "collection = client.get_collection(name='my_collection')"
   ]
  },
  {
   "cell_type": "code",
   "execution_count": 56,
   "metadata": {},
   "outputs": [
    {
     "data": {
      "text/plain": [
       "{'ids': ['1', '3', '4', '5'],\n",
       " 'embeddings': None,\n",
       " 'metadatas': [{'subject': 'history',\n",
       "   'text': 'Alan Turing was the first person to conduct substantial research in AI.'},\n",
       "  {'subject': 'biology',\n",
       "   'text': 'Machine learning has been used for drug design.'},\n",
       "  {'subject': 'biology',\n",
       "   'text': 'Computational synthesis with AI algorithms predicts molecular properties.'},\n",
       "  {'subject': 'biology', 'text': 'DDR1 is involved in cancers and fibrosis.'}],\n",
       " 'documents': ['Alan Turing was the first person to conduct substantial research in AI.',\n",
       "  'Machine learning has been used for drug design.',\n",
       "  'Computational synthesis with AI algorithms predicts molecular properties.',\n",
       "  'DDR1 is involved in cancers and fibrosis.'],\n",
       " 'data': None,\n",
       " 'uris': None,\n",
       " 'included': ['metadatas', 'documents']}"
      ]
     },
     "execution_count": 56,
     "metadata": {},
     "output_type": "execute_result"
    }
   ],
   "source": [
    "collection.get()"
   ]
  },
  {
   "cell_type": "markdown",
   "metadata": {},
   "source": [
    "### Drop collection"
   ]
  },
  {
   "cell_type": "code",
   "execution_count": 30,
   "metadata": {},
   "outputs": [],
   "source": [
    "client.delete_collection(name='my_collection')"
   ]
  }
 ],
 "metadata": {
  "kernelspec": {
   "display_name": "Python 3",
   "language": "python",
   "name": "python3"
  },
  "language_info": {
   "codemirror_mode": {
    "name": "ipython",
    "version": 3
   },
   "file_extension": ".py",
   "mimetype": "text/x-python",
   "name": "python",
   "nbconvert_exporter": "python",
   "pygments_lexer": "ipython3",
   "version": "3.10.12"
  }
 },
 "nbformat": 4,
 "nbformat_minor": 2
}
