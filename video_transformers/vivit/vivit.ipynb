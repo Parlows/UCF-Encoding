{
 "cells": [
  {
   "cell_type": "code",
   "execution_count": 2,
   "metadata": {},
   "outputs": [],
   "source": [
    "from transformers import VivitConfig, VivitModel"
   ]
  },
  {
   "cell_type": "code",
   "execution_count": 3,
   "metadata": {},
   "outputs": [],
   "source": [
    "config = VivitConfig(\n",
    "    image_size=224,\n",
    "    num_frames=32,\n",
    "    tubelet_size=[2, 16, 16],\n",
    "    num_channels=3,\n",
    "    hidden_size=768,\n",
    "    num_hidden_layers=12,\n",
    "    num_attention_heads=12,\n",
    "    intermediate_size=3072,\n",
    "    hidden_act='gelu_fast',\n",
    "    hidden_dropout_prob=0,\n",
    "    attention_probs_dropout_prob=0,\n",
    "    initializer_range=0.02,\n",
    "    layer_norm_eps=0.000001,\n",
    "    qkv_bias=True\n",
    ")"
   ]
  },
  {
   "cell_type": "code",
   "execution_count": 4,
   "metadata": {},
   "outputs": [],
   "source": [
    "model = VivitModel(\n",
    "    config=config,\n",
    "    add_pooling_layer=True\n",
    ")"
   ]
  },
  {
   "cell_type": "code",
   "execution_count": 1,
   "metadata": {},
   "outputs": [
    {
     "name": "stderr",
     "output_type": "stream",
     "text": [
      "2024-07-10 10:10:27.102873: E external/local_xla/xla/stream_executor/cuda/cuda_dnn.cc:9261] Unable to register cuDNN factory: Attempting to register factory for plugin cuDNN when one has already been registered\n",
      "2024-07-10 10:10:27.103101: E external/local_xla/xla/stream_executor/cuda/cuda_fft.cc:607] Unable to register cuFFT factory: Attempting to register factory for plugin cuFFT when one has already been registered\n",
      "2024-07-10 10:10:27.189769: E external/local_xla/xla/stream_executor/cuda/cuda_blas.cc:1515] Unable to register cuBLAS factory: Attempting to register factory for plugin cuBLAS when one has already been registered\n",
      "2024-07-10 10:10:27.388508: I tensorflow/core/platform/cpu_feature_guard.cc:182] This TensorFlow binary is optimized to use available CPU instructions in performance-critical operations.\n",
      "To enable the following instructions: AVX2 FMA, in other operations, rebuild TensorFlow with the appropriate compiler flags.\n",
      "2024-07-10 10:10:32.235503: W tensorflow/compiler/tf2tensorrt/utils/py_utils.cc:38] TF-TRT Warning: Could not find TensorRT\n"
     ]
    },
    {
     "name": "stdout",
     "output_type": "stream",
     "text": [
      "Downloading videos\n",
      "sample indices\n",
      "Load vivit\n"
     ]
    },
    {
     "name": "stderr",
     "output_type": "stream",
     "text": [
      "/home/pablo/.local/lib/python3.10/site-packages/huggingface_hub/file_download.py:1132: FutureWarning: `resume_download` is deprecated and will be removed in version 1.0.0. Downloads always resume when possible. If you want to force a new download, use `force_download=True`.\n",
      "  warnings.warn(\n",
      "/home/pablo/.local/lib/python3.10/site-packages/torch/_utils.py:831: UserWarning: TypedStorage is deprecated. It will be removed in the future and UntypedStorage will be the only storage class. This should only matter to you if you are using storages directly.  To access UntypedStorage directly, use tensor.untyped_storage() instead of tensor.storage()\n",
      "  return self.fget.__get__(instance, owner)()\n",
      "Some weights of VivitModel were not initialized from the model checkpoint at google/vivit-b-16x2-kinetics400 and are newly initialized: ['vivit.pooler.dense.bias', 'vivit.pooler.dense.weight']\n",
      "You should probably TRAIN this model on a down-stream task to be able to use it for predictions and inference.\n"
     ]
    },
    {
     "name": "stdout",
     "output_type": "stream",
     "text": [
      "Get inputs\n"
     ]
    },
    {
     "name": "stderr",
     "output_type": "stream",
     "text": [
      "/home/pablo/.local/lib/python3.10/site-packages/transformers/feature_extraction_utils.py:141: UserWarning: Creating a tensor from a list of numpy.ndarrays is extremely slow. Please consider converting the list to a single numpy.ndarray with numpy.array() before converting to a tensor. (Triggered internally at ../torch/csrc/utils/tensor_new.cpp:261.)\n",
      "  return torch.tensor(value)\n"
     ]
    },
    {
     "name": "stdout",
     "output_type": "stream",
     "text": [
      "Get outputs\n"
     ]
    },
    {
     "data": {
      "text/plain": [
       "[1, 3137, 768]"
      ]
     },
     "execution_count": 1,
     "metadata": {},
     "output_type": "execute_result"
    }
   ],
   "source": [
    "import av\n",
    "import numpy as np\n",
    "\n",
    "from transformers import VivitImageProcessor, VivitModel\n",
    "from huggingface_hub import hf_hub_download\n",
    "\n",
    "np.random.seed(0)\n",
    "\n",
    "\n",
    "def read_video_pyav(container, indices):\n",
    "    '''\n",
    "    Decode the video with PyAV decoder.\n",
    "    Args:\n",
    "        container (`av.container.input.InputContainer`): PyAV container.\n",
    "        indices (`List[int]`): List of frame indices to decode.\n",
    "    Returns:\n",
    "        result (np.ndarray): np array of decoded frames of shape (num_frames, height, width, 3).\n",
    "    '''\n",
    "    frames = []\n",
    "    container.seek(0)\n",
    "    start_index = indices[0]\n",
    "    end_index = indices[-1]\n",
    "    for i, frame in enumerate(container.decode(video=0)):\n",
    "        if i > end_index:\n",
    "            break\n",
    "        if i >= start_index and i in indices:\n",
    "            frames.append(frame)\n",
    "    return np.stack([x.to_ndarray(format=\"rgb24\") for x in frames])\n",
    "\n",
    "\n",
    "def sample_frame_indices(clip_len, frame_sample_rate, seg_len):\n",
    "    '''\n",
    "    Sample a given number of frame indices from the video.\n",
    "    Args:\n",
    "        clip_len (`int`): Total number of frames to sample.\n",
    "        frame_sample_rate (`int`): Sample every n-th frame.\n",
    "        seg_len (`int`): Maximum allowed index of sample's last frame.\n",
    "    Returns:\n",
    "        indices (`List[int]`): List of sampled frame indices\n",
    "    '''\n",
    "    converted_len = int(clip_len * frame_sample_rate)\n",
    "    end_idx = np.random.randint(converted_len, seg_len)\n",
    "    start_idx = end_idx - converted_len\n",
    "    indices = np.linspace(start_idx, end_idx, num=clip_len)\n",
    "    indices = np.clip(indices, start_idx, end_idx - 1).astype(np.int64)\n",
    "    return indices\n",
    "\n",
    "print(\"Downloading videos\")\n",
    "# video clip consists of 300 frames (10 seconds at 30 FPS)\n",
    "file_path = hf_hub_download(\n",
    "    repo_id=\"nielsr/video-demo\", filename=\"eating_spaghetti.mp4\", repo_type=\"dataset\"\n",
    ")\n",
    "container = av.open(file_path)\n",
    "\n",
    "print('sample indices')\n",
    "# sample 32 frames\n",
    "indices = sample_frame_indices(clip_len=32, frame_sample_rate=1, seg_len=container.streams.video[0].frames)\n",
    "video = read_video_pyav(container=container, indices=indices)\n",
    "\n",
    "print('Load vivit')\n",
    "image_processor = VivitImageProcessor.from_pretrained(\"google/vivit-b-16x2-kinetics400\")\n",
    "model = VivitModel.from_pretrained(\"google/vivit-b-16x2-kinetics400\")\n",
    "\n",
    "print('Get inputs')\n",
    "# prepare video for the model\n",
    "inputs = image_processor(list(video), return_tensors=\"pt\")\n",
    "\n",
    "print('Get outputs')\n",
    "# forward pass\n",
    "outputs = model(**inputs)\n",
    "last_hidden_states = outputs.last_hidden_state\n",
    "list(last_hidden_states.shape)"
   ]
  },
  {
   "cell_type": "code",
   "execution_count": 2,
   "metadata": {},
   "outputs": [],
   "source": [
    "import torch\n",
    "tensor = torch.load('last_hidden_states.pt')"
   ]
  },
  {
   "cell_type": "code",
   "execution_count": 7,
   "metadata": {},
   "outputs": [
    {
     "data": {
      "text/plain": [
       "tensor([-7.6379e-02,  4.6651e-01, -2.4014e-01,  4.5017e-01,  1.1438e+00,\n",
       "         1.8163e+00,  1.6684e-01,  3.2136e-01, -8.1002e-01,  5.8922e-01,\n",
       "         3.8196e-01, -3.1741e-02,  1.9726e+00, -1.1832e+00, -2.0024e+00,\n",
       "         1.2548e+00, -2.6207e+00,  1.4276e-02,  2.6208e-01,  1.0811e-01,\n",
       "         9.7158e-01,  5.0071e-01,  3.0242e+00, -3.5963e-01,  8.6071e-01,\n",
       "         1.2982e+00, -2.7555e-01, -1.0677e+00,  4.5861e-01, -4.4223e-01,\n",
       "         1.1474e+00, -8.3381e-01, -8.3832e-01, -1.9045e+00,  1.0746e+00,\n",
       "        -1.0963e+00, -2.1976e-01, -2.4826e-01, -4.9723e-01, -8.4550e-01,\n",
       "         8.4025e-01, -8.4539e-01,  5.7962e-01,  5.8470e-01,  6.7049e-01,\n",
       "        -1.2926e+00, -2.7801e-01,  2.9399e-01,  6.8319e-01, -9.9227e-01,\n",
       "        -5.8361e-01,  4.0723e-02,  4.5529e-01, -4.4509e-01,  1.0076e+00,\n",
       "         1.9670e-01,  1.3554e-01, -6.0439e-01,  6.8855e-02, -3.9623e-01,\n",
       "         3.8921e-01, -7.2124e-01,  9.6061e-01,  1.3253e+00, -1.3934e+00,\n",
       "         2.4375e-01, -1.3566e-01,  6.6577e-01,  5.6338e-01,  5.3147e-01,\n",
       "        -1.3544e-01,  1.7424e+00, -1.1288e+00, -1.8244e-01, -1.5624e+00,\n",
       "         1.7773e-01,  5.2320e-01, -7.4463e-01, -5.0097e-01,  9.4875e-02,\n",
       "         3.5785e-01,  5.6839e-01,  1.9501e-01,  1.2947e+00, -4.8555e-01,\n",
       "        -5.1463e-01,  4.0468e-01,  5.0488e-01,  1.4670e+00, -9.8888e-01,\n",
       "        -4.8096e-02,  3.7394e-01,  5.7599e-01, -7.9640e-01,  1.3712e+00,\n",
       "        -6.7464e-01, -4.6541e-01, -2.0839e-01, -5.5076e-01,  7.1238e-01,\n",
       "        -1.9461e-01, -5.6718e-01, -4.5574e-01, -4.1823e-01, -5.3268e-02,\n",
       "        -5.6510e-01, -1.6774e+00, -1.0315e+00,  1.0343e+00, -2.0227e-01,\n",
       "         1.4083e-01, -2.3825e-01, -1.3447e+00,  1.2227e+00, -9.4140e-01,\n",
       "         1.3815e+00, -1.8448e+00,  4.1127e-01,  2.2093e+00,  6.6455e-01,\n",
       "         8.6440e-01, -1.6186e+00, -3.7418e-01,  1.6021e+00,  7.0926e-01,\n",
       "        -1.5362e+00, -5.4801e-01, -6.0399e-01,  2.4865e-01,  1.9540e-01,\n",
       "         1.0424e+00, -3.3475e-01, -1.6734e-03, -1.5683e+00,  1.2753e+00,\n",
       "        -2.4604e-01, -1.2685e+00, -9.9421e-01, -3.5410e-01, -2.5433e-01,\n",
       "        -2.7839e+00, -1.6666e+00, -1.0007e+00,  2.1080e+00, -2.1279e-01,\n",
       "         2.9505e-01, -2.7937e-01, -1.2941e+00,  4.3745e-02, -8.8494e-01,\n",
       "         1.5379e-01, -8.8309e-01,  1.1170e-01,  6.4003e-01, -3.0643e-02,\n",
       "         4.4229e-01,  9.1395e-01, -6.1652e-01,  7.3329e-01,  1.5863e+00,\n",
       "         1.0338e+00, -7.6866e-02, -1.7787e-01,  9.0755e-02, -2.3032e+00,\n",
       "         1.6822e+00, -1.0598e+00,  2.5587e-01, -9.5311e-01, -1.3617e+00,\n",
       "        -6.8757e-01, -7.9576e-01,  1.4019e+00, -1.0800e+00, -1.6293e-01,\n",
       "        -1.3615e+00, -8.3573e-01, -1.0144e+00,  4.4730e-01, -1.0764e+00,\n",
       "        -2.0533e+00,  1.2996e+00,  3.3661e-01,  7.4542e-02, -8.9397e-01,\n",
       "         1.0070e+00, -1.8832e+00,  1.4154e+00, -3.1292e-02,  5.5926e-01,\n",
       "        -6.5255e-01,  2.3184e-01,  1.2478e+00, -2.1721e-01,  8.9279e-01,\n",
       "        -6.7336e-02,  2.9904e-01, -4.1882e-02,  1.9610e-02,  3.8894e-01,\n",
       "         5.1373e-01, -3.5913e-01, -1.4944e+00,  9.3034e-01, -1.1189e+00,\n",
       "         5.6036e-01, -9.6243e-01, -7.9405e-01, -7.8111e-01,  9.0982e-01,\n",
       "         2.7654e+00, -4.8500e-01,  5.8220e-02, -4.2943e-01, -8.2897e-03,\n",
       "        -6.0954e-01, -1.0701e+00, -1.9697e-01,  2.6671e-01,  1.0832e+00,\n",
       "         3.6216e-01,  1.1373e-01,  1.5176e-01, -4.2526e-01,  6.9006e-01,\n",
       "         6.8000e-02, -1.2344e-01, -8.0728e-01, -3.1201e-01,  6.9252e-01,\n",
       "         9.5433e-02, -1.7211e+00,  1.3401e+00,  2.2394e-01,  1.8516e+00,\n",
       "         7.2730e-01, -1.0025e+00, -3.6746e-02,  7.7203e-01,  2.7141e-01,\n",
       "        -1.2474e-01, -1.4516e+00,  1.4083e-01, -9.0953e-01,  5.2911e-01,\n",
       "        -1.7936e+00, -8.5546e-02, -1.4660e-01, -7.1998e-01, -9.2296e-01,\n",
       "        -7.9452e-02,  6.4787e-01,  8.5537e-02, -5.0205e-01, -2.8962e-01,\n",
       "        -7.8750e-01,  1.6980e-01, -2.7780e-01, -2.9336e-01,  2.7385e-01,\n",
       "        -7.0829e-01, -3.3020e-01,  8.7850e-01,  7.3830e-01, -4.6963e-01,\n",
       "         5.4889e-01, -1.1466e+00,  1.4184e+00,  2.3455e-01, -1.8716e+00,\n",
       "         2.2983e-01, -5.4578e-01,  1.0103e-01, -4.4188e-01, -8.7903e-01,\n",
       "         1.1726e+00, -1.3781e+00,  7.0181e-01,  3.9929e-01, -1.7401e-01,\n",
       "         1.0117e+00, -1.0982e+00, -8.4659e-01,  1.6670e-01,  4.4299e-01,\n",
       "        -7.4034e-01, -6.4679e-01,  8.1354e-01,  6.9078e-01, -2.2415e-01,\n",
       "        -1.1770e-01, -5.5150e-01, -9.7308e-01,  1.4607e-01,  3.5157e-01,\n",
       "        -1.9406e+00, -1.3007e-01, -6.9534e-01,  5.3856e-01, -8.8845e-02,\n",
       "        -1.0003e+00, -7.1142e-02,  1.0894e+00, -1.3188e+00,  6.6455e-01,\n",
       "         6.8213e-01,  4.6161e-01,  1.2290e+00, -8.3549e-01, -2.7700e-01,\n",
       "        -1.1389e+00,  4.0396e-01,  8.4142e-01, -1.3405e+00,  1.1217e-01,\n",
       "        -1.3273e+00, -2.6287e-01,  5.4387e-01, -6.8653e-01,  5.8517e-01,\n",
       "         1.8047e-01,  8.9908e-01, -3.7046e-01, -7.9562e-01, -2.8780e-01,\n",
       "        -1.1695e+00, -2.4049e-01, -1.1231e+00, -6.3442e-02, -3.6408e-01,\n",
       "        -6.3393e-01, -4.8948e-02, -7.8786e-01,  4.9063e-01, -7.7064e-01,\n",
       "        -8.2732e-01,  1.8523e-01,  8.4416e-01, -7.5464e-01,  1.9656e+00,\n",
       "         7.2226e-01, -1.7530e-01,  1.1832e+00, -5.5090e-01, -6.8533e-02,\n",
       "         2.2362e-01,  5.7432e-01, -2.2273e-01, -5.9011e-01, -4.0878e-01,\n",
       "        -3.1803e-01,  5.4923e-01, -2.2249e-01, -2.0681e-01,  6.8441e-01,\n",
       "         1.8719e+00,  7.4583e-01, -3.2118e-02,  8.5147e-01,  9.6234e-02,\n",
       "        -3.0995e-01, -1.4030e+00, -1.2593e+00,  1.2339e-01,  1.1374e+00,\n",
       "        -1.0059e+00,  1.4761e+00, -9.6261e-01,  1.3532e-01, -4.9627e-01,\n",
       "        -1.1894e+00, -8.4810e-01,  1.0253e-01,  8.8484e-01, -1.0618e+00,\n",
       "         6.6763e-01, -1.3848e+00,  1.4398e-01,  3.5547e-01, -1.1604e-01,\n",
       "         7.1526e-01,  2.0091e+00, -2.4995e-01,  1.3837e-02,  3.7002e-01,\n",
       "         5.8945e-01, -1.8992e+00,  2.2252e-01,  9.1374e-01,  6.4697e-01,\n",
       "         8.3797e-01,  3.6228e-01, -1.3893e+00,  1.5211e+00, -4.1661e-02,\n",
       "         3.6742e-01, -1.4547e-01,  8.0546e-02,  5.0450e-01, -1.3578e+00,\n",
       "        -1.0720e+00, -2.8758e-01,  9.2776e-01,  3.8933e-01,  8.5577e-01,\n",
       "        -2.3700e-01,  6.2361e-01,  5.3997e-01,  1.1813e+00, -7.7832e-01,\n",
       "         1.0007e+00,  1.6220e+00,  1.0303e+00,  1.6207e-02, -4.3404e-01,\n",
       "        -2.3015e-01,  2.7871e+00,  8.5665e-01,  1.7401e+00, -4.4423e-01,\n",
       "         2.3398e-01, -3.2824e-01, -9.9863e-01,  7.4416e-01, -6.6996e-01,\n",
       "         8.5113e-01, -4.4404e-01, -1.4701e-01, -2.5243e-01, -7.9980e-01,\n",
       "        -1.6352e+00, -9.1654e-01, -6.3728e-01,  7.4660e-01,  1.0996e+00,\n",
       "         8.0983e-01, -1.8049e-01, -1.1739e+00, -2.9352e-01, -3.3542e-01,\n",
       "         3.8638e-02,  9.0623e-02, -8.0252e-01, -3.9854e-01, -1.4573e+00,\n",
       "         3.2493e-02,  2.0554e-01, -5.3506e-01, -3.8966e-01,  4.6250e-01,\n",
       "        -7.0785e-01,  7.4404e-01,  2.4741e-01,  1.1079e+00, -2.8067e-02,\n",
       "        -1.1748e-01,  2.3816e+00, -6.4558e-01,  4.6830e-01,  9.6029e-02,\n",
       "        -3.5494e-01, -5.8837e-01,  2.2350e+00,  1.1284e+00, -2.8957e-01,\n",
       "         2.8247e-01, -1.3321e-01, -5.7503e-02,  1.5409e+00,  1.3717e+00,\n",
       "         1.0464e+00,  1.4098e+00,  5.1320e-01,  4.3214e-01, -1.3630e+00,\n",
       "         9.7160e-01, -3.2047e-01, -4.8438e-01,  4.5997e-01, -1.2025e+00,\n",
       "        -2.3811e-01, -2.0425e-01, -3.7813e-01, -6.0571e-01,  8.7046e-01,\n",
       "         4.2465e-01,  4.7159e-01,  4.4567e-01,  2.9702e-01,  7.8651e-01,\n",
       "        -1.1736e+00,  1.1345e+00, -7.9864e-01, -1.1923e+00,  3.1674e-01,\n",
       "         5.5242e-01,  1.1837e+00, -2.3105e-01, -5.3009e-01, -1.6308e-01,\n",
       "        -5.9100e-01, -4.0695e-01,  1.0517e+00,  2.9119e-01, -8.4928e-01,\n",
       "        -1.1220e+00,  6.3542e-01,  1.3344e+00,  2.0487e-01,  5.1525e-01,\n",
       "        -1.5932e+00,  7.2538e-01, -5.4395e-01,  1.0879e-01,  1.3200e+00,\n",
       "         1.9514e-01, -8.4641e-01,  3.5637e-01,  1.8773e+00, -4.8139e-01,\n",
       "         2.0476e-01,  2.3788e+00,  4.6426e-01,  1.8700e+00,  3.5640e-01,\n",
       "        -1.3546e+00,  1.0274e+00, -3.4444e-01, -1.6099e+00, -9.8968e-01,\n",
       "        -7.7906e-01,  1.1081e-01,  1.8611e+00,  1.4881e+00, -9.6144e-02,\n",
       "         3.1915e+00, -3.7737e-01,  2.6441e-03,  6.2024e-01, -6.9103e-01,\n",
       "        -1.5785e-01,  9.9612e-01,  2.3222e-01, -8.7205e-01, -6.9372e-01,\n",
       "         1.7530e+00,  2.3612e-02,  1.3959e+00,  7.8880e-01,  2.6370e-01,\n",
       "        -6.0545e-01,  1.1937e-01,  4.8663e-02,  7.8232e-01,  8.6719e-01,\n",
       "        -2.2375e-01, -6.6529e-01, -1.6154e-01, -4.5589e-01,  8.4593e-01,\n",
       "         3.3296e-01, -1.5957e+00, -7.9347e-01,  1.3546e-01, -3.7323e-01,\n",
       "        -9.6312e-01, -3.7339e-01, -2.8949e-01,  2.6865e-01,  2.5564e-01,\n",
       "        -2.1289e-01,  3.2557e-01,  8.8812e-01,  3.5987e-01, -2.6861e-01,\n",
       "        -1.0522e+00, -5.6980e-01,  7.6665e-01, -4.1338e-02, -1.3838e-01,\n",
       "        -1.0968e+00, -5.8035e-01,  1.0458e-01, -1.1792e+00, -4.5974e-01,\n",
       "        -3.4087e-01, -1.0698e+00, -2.5138e-01, -3.8720e-01, -1.5314e-01,\n",
       "        -1.4725e-01, -4.1104e-01, -3.0321e-01,  8.1893e-01, -4.1210e-01,\n",
       "         7.5650e-01,  1.1763e+00,  5.1226e-01,  6.1184e-01,  2.2064e-01,\n",
       "         3.3107e-01, -4.1486e-01,  8.2314e-02,  6.4814e-01, -1.6993e+00,\n",
       "        -8.3545e-01, -2.0274e-02,  1.9360e-01, -2.2006e-01, -1.9557e+00,\n",
       "         1.8160e+00, -6.1657e-01, -1.5327e+00,  4.2362e-01,  1.3707e+00,\n",
       "        -2.8755e-01,  4.1189e-01,  6.1664e-01,  7.6617e-01, -6.0206e-01,\n",
       "        -4.9289e-02,  1.4073e+00, -1.8168e-01, -4.2212e-01,  4.4194e-01,\n",
       "        -1.3142e+00, -3.8297e-01, -4.6733e-01,  8.7454e-01, -1.1935e+00,\n",
       "        -2.3074e-01, -8.6889e-01, -1.6593e+00, -3.4126e-01, -1.7323e+00,\n",
       "         8.3141e-01,  1.6415e+00,  1.7720e-02, -1.1427e+00, -6.8171e-01,\n",
       "         1.0173e+00, -6.7590e-01,  2.4293e-02, -3.6886e-01, -4.2453e-01,\n",
       "         1.0312e+00,  4.2643e-01, -1.2435e+00,  2.4908e-01,  6.0511e-01,\n",
       "        -2.0388e+00,  5.2162e-01,  1.9262e+00, -1.1151e+00, -4.8998e-01,\n",
       "         7.4280e-01, -4.9444e-01, -1.0660e+00, -3.3517e-01,  5.3498e-01,\n",
       "        -1.2763e+00,  5.6690e-01,  6.8963e-01,  7.0034e-01,  6.6956e-01,\n",
       "        -4.3166e-01, -1.1814e-01,  2.3505e-01,  1.0225e-01,  1.8089e-01,\n",
       "         5.3996e+00,  1.6417e+00, -1.2402e+00,  2.3904e-02, -3.6942e-01,\n",
       "         3.3831e+00, -3.7323e-01,  5.8775e-01, -3.4530e-01, -7.7191e-02,\n",
       "        -9.9754e-01, -1.6990e-01,  7.3384e-01,  1.4582e+00, -5.7783e-01,\n",
       "         2.0489e-02, -1.4162e-01, -1.3654e-01, -3.0966e-01,  4.7244e-02,\n",
       "        -7.6636e-01,  1.2192e+00, -1.2559e+00, -5.9482e-01,  3.6085e-01,\n",
       "        -4.1530e-01,  1.2936e+00,  2.7352e-01,  4.9578e-01,  8.4866e-01,\n",
       "        -1.0135e+00, -1.0524e-01, -5.3503e-01,  3.9190e-01, -3.2701e-01,\n",
       "         5.4193e-01, -1.0386e+00, -1.3393e+00, -5.7952e-01,  4.0224e-02,\n",
       "        -2.0482e-01,  3.1924e-02, -1.3375e+00,  1.8958e+00, -1.3814e-01,\n",
       "        -3.9619e-01,  4.4614e-01, -2.3379e-01, -2.3390e-01,  1.3389e+00,\n",
       "        -3.9271e-01, -3.6742e-02, -3.3721e-01, -4.5873e-01, -7.4033e-02,\n",
       "         6.9611e-01,  7.9451e-01,  2.2149e+00,  2.2748e-01,  4.6797e-01,\n",
       "         7.6092e-02,  3.3377e-01,  1.2701e-01, -6.5857e-02,  2.6737e-01,\n",
       "        -2.0988e+00, -7.2475e-02, -4.6588e-01, -7.7140e-02, -5.3500e-01,\n",
       "        -9.6757e-01, -5.9662e-01, -7.7530e-01, -6.9018e-01, -1.6038e-01,\n",
       "        -5.4175e-01,  1.3285e+00, -2.8439e-01, -1.5826e+00, -6.9918e-01,\n",
       "        -5.4197e-01,  4.6686e-01, -1.2274e+00, -3.4568e-01, -2.2473e-01,\n",
       "        -9.6182e-01, -8.5794e-01, -3.6035e-01, -6.0379e-01,  2.5722e-01,\n",
       "        -3.6670e-01, -4.5661e-02,  7.6382e-02,  3.6261e-01,  4.2436e-01,\n",
       "         7.0615e-02, -1.1431e+00, -1.5539e-01], grad_fn=<SelectBackward0>)"
      ]
     },
     "execution_count": 7,
     "metadata": {},
     "output_type": "execute_result"
    }
   ],
   "source": [
    "tensor[0][0]"
   ]
  },
  {
   "cell_type": "code",
   "execution_count": 4,
   "metadata": {},
   "outputs": [
    {
     "data": {
      "text/plain": [
       "torch.Size([1, 3137, 768])"
      ]
     },
     "execution_count": 4,
     "metadata": {},
     "output_type": "execute_result"
    }
   ],
   "source": [
    "tensor.shape"
   ]
  },
  {
   "cell_type": "code",
   "execution_count": null,
   "metadata": {},
   "outputs": [],
   "source": []
  },
  {
   "cell_type": "code",
   "execution_count": null,
   "metadata": {},
   "outputs": [],
   "source": []
  },
  {
   "cell_type": "code",
   "execution_count": null,
   "metadata": {},
   "outputs": [],
   "source": []
  },
  {
   "cell_type": "code",
   "execution_count": null,
   "metadata": {},
   "outputs": [],
   "source": []
  },
  {
   "cell_type": "code",
   "execution_count": null,
   "metadata": {},
   "outputs": [],
   "source": []
  },
  {
   "cell_type": "code",
   "execution_count": null,
   "metadata": {},
   "outputs": [],
   "source": []
  },
  {
   "cell_type": "code",
   "execution_count": null,
   "metadata": {},
   "outputs": [],
   "source": []
  },
  {
   "cell_type": "code",
   "execution_count": null,
   "metadata": {},
   "outputs": [],
   "source": []
  },
  {
   "cell_type": "code",
   "execution_count": null,
   "metadata": {},
   "outputs": [],
   "source": []
  },
  {
   "cell_type": "code",
   "execution_count": null,
   "metadata": {},
   "outputs": [],
   "source": []
  },
  {
   "cell_type": "code",
   "execution_count": null,
   "metadata": {},
   "outputs": [],
   "source": []
  },
  {
   "cell_type": "code",
   "execution_count": null,
   "metadata": {},
   "outputs": [],
   "source": []
  },
  {
   "cell_type": "code",
   "execution_count": null,
   "metadata": {},
   "outputs": [],
   "source": []
  },
  {
   "cell_type": "code",
   "execution_count": null,
   "metadata": {},
   "outputs": [],
   "source": []
  },
  {
   "cell_type": "code",
   "execution_count": null,
   "metadata": {},
   "outputs": [],
   "source": []
  },
  {
   "cell_type": "code",
   "execution_count": null,
   "metadata": {},
   "outputs": [],
   "source": []
  },
  {
   "cell_type": "code",
   "execution_count": null,
   "metadata": {},
   "outputs": [],
   "source": []
  },
  {
   "cell_type": "code",
   "execution_count": null,
   "metadata": {},
   "outputs": [],
   "source": []
  },
  {
   "cell_type": "code",
   "execution_count": null,
   "metadata": {},
   "outputs": [],
   "source": []
  },
  {
   "cell_type": "code",
   "execution_count": null,
   "metadata": {},
   "outputs": [],
   "source": []
  },
  {
   "cell_type": "code",
   "execution_count": null,
   "metadata": {},
   "outputs": [],
   "source": []
  },
  {
   "cell_type": "code",
   "execution_count": null,
   "metadata": {},
   "outputs": [],
   "source": []
  },
  {
   "cell_type": "code",
   "execution_count": null,
   "metadata": {},
   "outputs": [],
   "source": []
  },
  {
   "cell_type": "code",
   "execution_count": null,
   "metadata": {},
   "outputs": [],
   "source": []
  },
  {
   "cell_type": "code",
   "execution_count": null,
   "metadata": {},
   "outputs": [],
   "source": []
  },
  {
   "cell_type": "code",
   "execution_count": null,
   "metadata": {},
   "outputs": [],
   "source": []
  },
  {
   "cell_type": "code",
   "execution_count": null,
   "metadata": {},
   "outputs": [],
   "source": []
  },
  {
   "cell_type": "code",
   "execution_count": null,
   "metadata": {},
   "outputs": [],
   "source": []
  },
  {
   "cell_type": "code",
   "execution_count": null,
   "metadata": {},
   "outputs": [],
   "source": []
  },
  {
   "cell_type": "code",
   "execution_count": null,
   "metadata": {},
   "outputs": [],
   "source": []
  },
  {
   "cell_type": "code",
   "execution_count": null,
   "metadata": {},
   "outputs": [],
   "source": []
  }
 ],
 "metadata": {
  "kernelspec": {
   "display_name": "Python 3",
   "language": "python",
   "name": "python3"
  },
  "language_info": {
   "codemirror_mode": {
    "name": "ipython",
    "version": 3
   },
   "file_extension": ".py",
   "mimetype": "text/x-python",
   "name": "python",
   "nbconvert_exporter": "python",
   "pygments_lexer": "ipython3",
   "version": "3.10.12"
  }
 },
 "nbformat": 4,
 "nbformat_minor": 2
}
